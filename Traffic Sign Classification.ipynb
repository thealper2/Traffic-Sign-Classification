{
 "cells": [
  {
   "cell_type": "code",
   "execution_count": 2,
   "id": "a4c56ccb",
   "metadata": {},
   "outputs": [],
   "source": [
    "import numpy as np\n",
    "import pandas as pd\n",
    "import matplotlib.pyplot as plt\n",
    "import seaborn as sns\n",
    "import os\n",
    "from matplotlib.pyplot import imread\n",
    "from PIL import Image\n",
    "import tensorflow as tf\n",
    "from sklearn.model_selection import train_test_split\n",
    "from tensorflow.keras.models import Sequential\n",
    "from tensorflow.keras.layers import Dense, Flatten, Dropout, Conv2D, MaxPool2D\n",
    "from tensorflow.keras.utils import to_categorical"
   ]
  },
  {
   "cell_type": "code",
   "execution_count": 3,
   "id": "c289de34",
   "metadata": {},
   "outputs": [],
   "source": [
    "images = []\n",
    "label_id = []\n",
    "root_dir = \"Train\"\n",
    "image_size = (50, 50)\n",
    "\n",
    "for i in range(43):\n",
    "    label_dir = os.path.join(root_dir, str(i))\n",
    "    image_files = os.listdir(label_dir)\n",
    "    for image_file in image_files:\n",
    "        image_path = os.path.join(label_dir, image_file)\n",
    "        img = Image.open(image_path)\n",
    "        img = img.resize(image_size)\n",
    "        img = np.array(img)\n",
    "        images.append(img)\n",
    "        label_id.append(i)"
   ]
  },
  {
   "cell_type": "code",
   "execution_count": 4,
   "id": "d9b4c4ff",
   "metadata": {},
   "outputs": [
    {
     "data": {
      "text/plain": [
       "((39209, 50, 50, 3), (39209, 43))"
      ]
     },
     "execution_count": 4,
     "metadata": {},
     "output_type": "execute_result"
    }
   ],
   "source": [
    "X = np.array(images)\n",
    "Y = np.array(label_id)\n",
    "X = X / 255\n",
    "Y = to_categorical(Y)\n",
    "X.shape, Y.shape"
   ]
  },
  {
   "cell_type": "code",
   "execution_count": 5,
   "id": "853b9fd8",
   "metadata": {},
   "outputs": [],
   "source": [
    "X_train, X_valid, y_train, y_valid = train_test_split(X, Y, test_size=0.2, random_state=4242)"
   ]
  },
  {
   "cell_type": "code",
   "execution_count": 6,
   "id": "3fadc2d8",
   "metadata": {},
   "outputs": [
    {
     "data": {
      "text/plain": [
       "((31367, 50, 50, 3), (31367, 43))"
      ]
     },
     "execution_count": 6,
     "metadata": {},
     "output_type": "execute_result"
    }
   ],
   "source": [
    "X_train.shape, y_train.shape"
   ]
  },
  {
   "cell_type": "code",
   "execution_count": 7,
   "id": "66c99f7f",
   "metadata": {},
   "outputs": [],
   "source": [
    "model = Sequential([\n",
    "    Conv2D(64, (3,3), input_shape=(50, 50, 3), activation=\"relu\", padding=\"same\"),\n",
    "    MaxPool2D((2,2)),\n",
    "    Dropout(0.5),\n",
    "    Conv2D(64, (3,3), activation=\"relu\"),\n",
    "    MaxPool2D((2,2)),\n",
    "    Dropout(0.5),\n",
    "    Flatten(),\n",
    "    Dense(128, activation=\"relu\"),\n",
    "    Dropout(0.5),\n",
    "    Dense(43, activation=\"softmax\")\n",
    "])"
   ]
  },
  {
   "cell_type": "code",
   "execution_count": 8,
   "id": "14031d14",
   "metadata": {},
   "outputs": [],
   "source": [
    "model.compile(loss=\"categorical_crossentropy\", optimizer=\"adam\", metrics=[\"accuracy\"])"
   ]
  },
  {
   "cell_type": "code",
   "execution_count": 9,
   "id": "8ee869cf",
   "metadata": {},
   "outputs": [
    {
     "name": "stdout",
     "output_type": "stream",
     "text": [
      "Model: \"sequential\"\n",
      "_________________________________________________________________\n",
      " Layer (type)                Output Shape              Param #   \n",
      "=================================================================\n",
      " conv2d (Conv2D)             (None, 50, 50, 64)        1792      \n",
      "                                                                 \n",
      " max_pooling2d (MaxPooling2D  (None, 25, 25, 64)       0         \n",
      " )                                                               \n",
      "                                                                 \n",
      " dropout (Dropout)           (None, 25, 25, 64)        0         \n",
      "                                                                 \n",
      " conv2d_1 (Conv2D)           (None, 23, 23, 64)        36928     \n",
      "                                                                 \n",
      " max_pooling2d_1 (MaxPooling  (None, 11, 11, 64)       0         \n",
      " 2D)                                                             \n",
      "                                                                 \n",
      " dropout_1 (Dropout)         (None, 11, 11, 64)        0         \n",
      "                                                                 \n",
      " flatten (Flatten)           (None, 7744)              0         \n",
      "                                                                 \n",
      " dense (Dense)               (None, 128)               991360    \n",
      "                                                                 \n",
      " dropout_2 (Dropout)         (None, 128)               0         \n",
      "                                                                 \n",
      " dense_1 (Dense)             (None, 43)                5547      \n",
      "                                                                 \n",
      "=================================================================\n",
      "Total params: 1,035,627\n",
      "Trainable params: 1,035,627\n",
      "Non-trainable params: 0\n",
      "_________________________________________________________________\n"
     ]
    }
   ],
   "source": [
    "model.summary()"
   ]
  },
  {
   "cell_type": "code",
   "execution_count": 10,
   "id": "deda7787",
   "metadata": {},
   "outputs": [
    {
     "name": "stdout",
     "output_type": "stream",
     "text": [
      "Epoch 1/5\n"
     ]
    },
    {
     "name": "stderr",
     "output_type": "stream",
     "text": [
      "2023-05-13 17:06:51.125242: W tensorflow/tsl/platform/profile_utils/cpu_utils.cc:128] Failed to get CPU frequency: 0 Hz\n"
     ]
    },
    {
     "name": "stdout",
     "output_type": "stream",
     "text": [
      "246/246 [==============================] - 34s 134ms/step - loss: 2.4327 - accuracy: 0.3288 - val_loss: 1.1888 - val_accuracy: 0.6826\n",
      "Epoch 2/5\n",
      "246/246 [==============================] - 34s 137ms/step - loss: 1.1869 - accuracy: 0.6247 - val_loss: 0.5618 - val_accuracy: 0.8769\n",
      "Epoch 3/5\n",
      "246/246 [==============================] - 36s 145ms/step - loss: 0.8114 - accuracy: 0.7356 - val_loss: 0.3136 - val_accuracy: 0.9294\n",
      "Epoch 4/5\n",
      "246/246 [==============================] - 36s 145ms/step - loss: 0.6402 - accuracy: 0.7880 - val_loss: 0.2492 - val_accuracy: 0.9589\n",
      "Epoch 5/5\n",
      "246/246 [==============================] - 36s 147ms/step - loss: 0.5445 - accuracy: 0.8219 - val_loss: 0.1779 - val_accuracy: 0.9648\n"
     ]
    },
    {
     "data": {
      "text/plain": [
       "<keras.callbacks.History at 0x28e2cf040>"
      ]
     },
     "execution_count": 10,
     "metadata": {},
     "output_type": "execute_result"
    }
   ],
   "source": [
    "model.fit(X_train, y_train, epochs=5, batch_size=128, validation_data=(X_valid, y_valid))"
   ]
  },
  {
   "cell_type": "code",
   "execution_count": 11,
   "id": "ebfc0555",
   "metadata": {},
   "outputs": [],
   "source": [
    "test_images = []\n",
    "root_dir = \"Test\"\n",
    "image_size = (50, 50)\n",
    "\n",
    "image_files = os.listdir(root_dir)\n",
    "label_dir = os.path.join(root_dir)\n",
    "for image_file in image_files:\n",
    "    image_path = os.path.join(label_dir, image_file)\n",
    "    img = Image.open(image_path)\n",
    "    img = img.resize(image_size)\n",
    "    img = np.array(img)\n",
    "    test_images.append(img)"
   ]
  },
  {
   "cell_type": "code",
   "execution_count": 49,
   "id": "eb90fb63",
   "metadata": {},
   "outputs": [
    {
     "name": "stdout",
     "output_type": "stream",
     "text": [
      "Test/07491.png\n"
     ]
    }
   ],
   "source": [
    "print(image_path)"
   ]
  },
  {
   "cell_type": "code",
   "execution_count": 12,
   "id": "4efa0c0b",
   "metadata": {},
   "outputs": [
    {
     "data": {
      "text/plain": [
       "(12630, 50, 50, 3)"
      ]
     },
     "execution_count": 12,
     "metadata": {},
     "output_type": "execute_result"
    }
   ],
   "source": [
    "test = np.array(test_images)\n",
    "test = test / 255\n",
    "test.shape"
   ]
  },
  {
   "cell_type": "code",
   "execution_count": 29,
   "id": "1e8698c7",
   "metadata": {},
   "outputs": [],
   "source": [
    "test_df = pd.read_csv(\"Test.csv\")\n",
    "y_test = test_df[\"ClassId\"].values"
   ]
  },
  {
   "cell_type": "code",
   "execution_count": 30,
   "id": "aa246c3e",
   "metadata": {},
   "outputs": [
    {
     "data": {
      "text/plain": [
       "(1000,)"
      ]
     },
     "execution_count": 30,
     "metadata": {},
     "output_type": "execute_result"
    }
   ],
   "source": [
    "y_test = y_test[:1000]\n",
    "y_test.shape"
   ]
  },
  {
   "cell_type": "code",
   "execution_count": 31,
   "id": "d1f76400",
   "metadata": {},
   "outputs": [],
   "source": [
    "test_images = test[:1000]"
   ]
  },
  {
   "cell_type": "code",
   "execution_count": 57,
   "id": "6c8baa8e",
   "metadata": {},
   "outputs": [
    {
     "name": "stdout",
     "output_type": "stream",
     "text": [
      "32/32 [==============================] - 0s 9ms/step\n"
     ]
    },
    {
     "data": {
      "text/plain": [
       "array([ 8, 14,  1,  1,  8, 36, 10, 13, 18, 18,  2,  5,  4, 25,  5,  1, 13,\n",
       "       15,  5,  3,  3,  6,  2,  4,  9,  3,  3, 26, 23,  7, 18,  1, 10, 20,\n",
       "        2, 31,  1, 23, 22, 10,  7,  9,  6, 25, 28, 12,  8,  9, 13,  7, 10,\n",
       "        7, 18, 14,  8, 34,  7,  2,  1, 15,  4, 12, 25, 38,  1, 40, 31, 10,\n",
       "       38, 17,  4,  7,  4,  1, 38,  2, 26, 31,  7, 38, 23,  4,  4, 21, 41,\n",
       "        5, 36, 17, 13, 38, 37, 31,  9,  2, 10, 11,  7, 12,  7,  7, 25,  2,\n",
       "       13, 20,  2, 10,  7,  5,  2,  9,  2, 31, 10,  7,  8, 39, 13,  9, 11,\n",
       "       11,  1,  4, 10, 17, 28,  5, 11, 38, 10,  5,  1, 33,  8,  7, 16, 23,\n",
       "       10, 13, 10,  7, 12, 14,  8, 18, 25, 25, 25, 35, 13,  9, 14, 20,  5,\n",
       "       38, 21,  8, 13, 38, 12, 38, 31,  8,  1, 23,  0, 38, 23,  4, 13, 38,\n",
       "        1, 38,  6,  7, 14, 10, 39,  5, 10,  8, 33,  5, 14, 31,  9,  1,  9,\n",
       "        5, 18, 31,  2,  6, 39, 38, 11, 12, 35, 12, 25,  5, 38, 26,  4,  9,\n",
       "       20,  1, 12,  5, 35,  1,  7,  5, 38,  5,  1, 11, 33,  7, 29, 13, 12,\n",
       "       42,  1,  9, 14, 21, 38, 15, 13, 11,  2, 28, 29, 15, 33,  5,  9, 28,\n",
       "        5, 15,  9,  1,  5, 33, 13, 10, 38,  3, 13, 31,  2,  3, 38,  5, 11,\n",
       "       10, 34, 13, 37, 12, 10, 14, 15,  2,  2,  2, 18,  3, 34, 13, 31,  9,\n",
       "       31, 38,  2, 15,  7, 33,  5, 38,  8, 18,  5, 12, 38,  5, 10, 12,  4,\n",
       "       16,  4, 11, 31, 38,  4, 26, 12, 35,  5, 25, 39, 16,  6, 23, 31, 33,\n",
       "        8, 31,  4, 14,  5, 35, 31, 38, 13,  3, 32, 12, 38, 36,  5, 18, 13,\n",
       "        6,  2, 38, 12, 20, 12, 29, 25, 40, 31, 38,  5,  2, 17,  3,  1,  8,\n",
       "        4,  1,  5, 13,  5, 31, 33,  7,  5, 10, 23, 12, 11, 13, 25, 35, 15,\n",
       "       38, 38,  5, 35,  4, 15, 25, 39, 21, 12, 12,  3, 12,  4, 38, 32, 36,\n",
       "       38, 26,  3, 36, 18,  7, 42,  1, 31, 26, 28, 12, 10, 34,  2, 25, 34,\n",
       "       14,  6, 10, 10, 10, 38,  1, 36, 34, 18, 11, 38, 38, 12, 34,  8, 12,\n",
       "        6, 12, 11,  2, 31, 12,  2,  1,  5, 14, 25,  1, 32, 17, 38,  4, 38,\n",
       "       35,  9,  3, 13, 40, 16, 39,  1,  9, 14, 17,  2, 10, 18, 25, 31, 25,\n",
       "       35,  5, 17, 12, 42, 32,  9, 18, 28, 10, 13,  5,  6, 12,  4, 17, 29,\n",
       "       23, 26,  3, 14, 33,  3,  8,  5,  9,  6, 36, 13, 13,  4, 35,  8,  5,\n",
       "        4,  5, 38,  8,  2, 25, 10,  3, 42,  7,  2,  6, 11,  2, 13, 18,  5,\n",
       "        2, 16, 38,  3, 16,  8,  1, 17, 30, 25, 11, 15, 41,  5, 12,  9, 13,\n",
       "       10,  2, 33,  7, 13, 37,  4,  7,  7,  7, 38, 13,  5, 40, 10, 13, 13,\n",
       "       38, 10, 13, 10, 38,  2, 31, 18, 11, 11, 13, 17, 10,  8, 17,  9, 31,\n",
       "        5,  7, 16, 39, 13, 13, 10, 23, 23, 19, 38,  4, 10,  2, 11, 10, 18,\n",
       "       18,  1,  3, 10,  8, 13, 11,  2, 35, 42,  5, 38, 38,  3, 35,  5, 10,\n",
       "       28, 19, 12,  9, 38, 38, 31, 36,  4, 28,  7,  4,  2, 41, 41,  9, 15,\n",
       "        1,  9, 38, 16, 22, 30, 29, 23,  5, 13, 17, 14, 36, 17, 12, 28, 13,\n",
       "       18, 12, 18, 28,  9,  7,  8,  5,  5, 11,  3, 38,  1,  1,  9,  9,  8,\n",
       "        7, 22, 42, 12,  4, 32,  5, 12, 12,  4,  4,  5, 25, 12, 14, 31,  2,\n",
       "        2, 25, 18,  2, 10,  3,  7, 16, 11, 13,  2, 13, 25, 14, 38,  5,  4,\n",
       "        8,  9,  9, 31,  8, 37, 12, 18, 35,  7, 12,  2, 33,  4, 34,  9, 12,\n",
       "       41, 13, 38, 15, 31, 10,  1, 42, 12,  2, 38, 12, 33,  8,  4,  3, 28,\n",
       "        1,  8, 37, 14,  9, 11, 17, 13, 31,  2, 13, 38,  8,  4,  5,  3,  1,\n",
       "        1, 20,  2,  4,  1, 18, 10, 18,  8, 23, 18, 35,  5, 35, 38, 33, 12,\n",
       "       10, 10, 18,  5,  5,  8, 18, 35, 28, 25,  2, 11, 25, 25, 25, 15, 13,\n",
       "        1,  7,  2,  9, 18, 10, 38,  7, 21,  4, 33, 10, 17,  1,  6, 38,  1,\n",
       "       33, 33, 25,  8,  2, 35,  7, 15, 28, 12,  9, 38, 28,  1, 15, 11, 11,\n",
       "       38, 35,  5, 10,  2,  5, 20, 11, 35,  4, 42, 20, 31,  8, 35,  7,  5,\n",
       "       11, 36, 10, 10, 14, 38, 42, 16,  9, 25,  8, 12,  5,  1, 22, 38, 31,\n",
       "       11, 13, 34, 12, 13, 25,  1, 22, 17, 18, 15,  1,  9,  2, 35,  2, 23,\n",
       "       26,  2, 25, 13, 38, 35, 30, 14, 12, 17, 25,  5, 10, 41, 15, 18,  9,\n",
       "        7,  3,  5, 10,  7, 29, 16, 38, 35,  7, 34,  9, 15,  5,  2,  5, 16,\n",
       "       18, 33, 38,  2, 13, 31, 38,  5, 29, 14, 13, 42,  7, 42, 17, 10, 25,\n",
       "        5,  4, 12, 13,  4,  2,  5, 12,  1,  4,  4, 42,  4, 34,  5,  4, 29,\n",
       "       10, 14, 10, 17, 10,  1, 25,  8, 25,  1, 13, 13,  4, 10, 13, 24,  1,\n",
       "        2, 10,  7,  2,  7,  3, 22,  2, 10, 38,  5, 10, 25, 35, 40,  4,  2,\n",
       "       10, 14, 28, 26,  2, 13, 10, 11, 17, 31, 25, 12, 10,  5, 38, 13, 16,\n",
       "       38, 12, 31,  2, 12,  7, 15, 12,  9, 13, 28,  5, 31, 17,  3, 16,  9,\n",
       "       25,  1,  2, 35,  3,  7,  3, 15, 38,  9,  7,  2, 25, 42,  8,  3, 10,\n",
       "       25, 10, 10,  2,  1, 38, 33,  2, 13, 37, 37, 25, 18, 23])"
      ]
     },
     "execution_count": 57,
     "metadata": {},
     "output_type": "execute_result"
    }
   ],
   "source": [
    "y_pred = model.predict(test_images)\n",
    "y_pred = np.argmax(y_pred, axis=1)\n",
    "y_pred"
   ]
  },
  {
   "cell_type": "code",
   "execution_count": 58,
   "id": "b16017e3",
   "metadata": {},
   "outputs": [],
   "source": [
    "classes = [ 'Speed limit (20km/h)',\n",
    "            'Speed limit (30km/h)', \n",
    "            'Speed limit (50km/h)', \n",
    "            'Speed limit (60km/h)', \n",
    "            'Speed limit (70km/h)', \n",
    "            'Speed limit (80km/h)', \n",
    "            'End of speed limit (80km/h)', \n",
    "            'Speed limit (100km/h)', \n",
    "            'Speed limit (120km/h)', \n",
    "            'No passing', \n",
    "            'No passing veh over 3.5 tons', \n",
    "            'Right-of-way at intersection', \n",
    "            'Priority road', \n",
    "            'Yield', \n",
    "            'Stop', \n",
    "            'No vehicles', \n",
    "            'Veh > 3.5 tons prohibited', \n",
    "            'No entry', \n",
    "            'General caution', \n",
    "            'Dangerous curve left', \n",
    "            'Dangerous curve right', \n",
    "            'Double curve', \n",
    "            'Bumpy road', \n",
    "            'Slippery road', \n",
    "            'Road narrows on the right', \n",
    "            'Road work', \n",
    "            'Traffic signals', \n",
    "            'Pedestrians', \n",
    "            'Children crossing', \n",
    "            'Bicycles crossing', \n",
    "            'Beware of ice/snow',\n",
    "            'Wild animals crossing', \n",
    "            'End speed + passing limits', \n",
    "            'Turn right ahead', \n",
    "            'Turn left ahead', \n",
    "            'Ahead only', \n",
    "            'Go straight or right', \n",
    "            'Go straight or left', \n",
    "            'Keep right', \n",
    "            'Keep left', \n",
    "            'Roundabout mandatory', \n",
    "            'End of no passing', \n",
    "            'End no passing veh > 3.5 tons' \n",
    "]"
   ]
  },
  {
   "cell_type": "code",
   "execution_count": 59,
   "id": "b808efbf",
   "metadata": {},
   "outputs": [
    {
     "name": "stdout",
     "output_type": "stream",
     "text": [
      "Original:  Speed limit (50km/h)\n",
      "Predicted:  Speed limit (50km/h)\n"
     ]
    }
   ],
   "source": [
    "print(\"Original: \", classes[y_test[34]])\n",
    "print(\"Predicted: \", classes[y_pred[34]])"
   ]
  },
  {
   "cell_type": "code",
   "execution_count": 61,
   "id": "27cabeff",
   "metadata": {},
   "outputs": [
    {
     "name": "stdout",
     "output_type": "stream",
     "text": [
      "4.3 %\n"
     ]
    }
   ],
   "source": [
    "count = 0\n",
    "for i in range(1, 1000):\n",
    "    if classes[y_pred[i]] == classes[y_test[i]]:\n",
    "        count += 1\n",
    "        \n",
    "print(count/10 , \"%\")"
   ]
  },
  {
   "cell_type": "code",
   "execution_count": null,
   "id": "9369135d",
   "metadata": {},
   "outputs": [],
   "source": []
  }
 ],
 "metadata": {
  "kernelspec": {
   "display_name": "Python 3 (ipykernel)",
   "language": "python",
   "name": "python3"
  },
  "language_info": {
   "codemirror_mode": {
    "name": "ipython",
    "version": 3
   },
   "file_extension": ".py",
   "mimetype": "text/x-python",
   "name": "python",
   "nbconvert_exporter": "python",
   "pygments_lexer": "ipython3",
   "version": "3.8.16"
  }
 },
 "nbformat": 4,
 "nbformat_minor": 5
}
